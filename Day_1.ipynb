{
 "cells": [
  {
   "cell_type": "code",
   "execution_count": 1,
   "metadata": {},
   "outputs": [],
   "source": [
    "import pandas as pd\n",
    "import numpy as np "
   ]
  },
  {
   "cell_type": "markdown",
   "metadata": {},
   "source": [
    "# --- Day 1: Trebuchet?! ---"
   ]
  },
  {
   "cell_type": "markdown",
   "metadata": {},
   "source": [
    "Something is wrong with global snow production, and you've been selected to take a look. The Elves have even given you a map; on it, they've used stars to mark the top fifty locations that are likely to be having problems.\n",
    "\n",
    "You've been doing this long enough to know that to restore snow operations, you need to check all fifty stars by December 25th.\n",
    "\n",
    "Collect stars by solving puzzles. Two puzzles will be made available on each day in the Advent calendar; the second puzzle is unlocked when you complete the first. Each puzzle grants one star. Good luck!\n",
    "\n",
    "You try to ask why they can't just use a weather machine (\"not powerful enough\") and where they're even sending you (\"the sky\") and why your map looks mostly blank (\"you sure ask a lot of questions\") and hang on did you just say the sky (\"of course, where do you think snow comes from\") when you realize that the Elves are already loading you into a trebuchet (\"please hold still, we need to strap you in\").\n",
    "\n",
    "As they're making the final adjustments, they discover that their calibration document (your puzzle input) has been amended by a very young Elf who was apparently just excited to show off her art skills. Consequently, the Elves are having trouble reading the values on the document.\n",
    "\n",
    "The newly-improved calibration document consists of lines of text; each line originally contained a specific calibration value that the Elves now need to recover. On each line, the calibration value can be found by combining the first digit and the last digit (in that order) to form a single two-digit number.\n",
    "\n",
    "For example:\n",
    "\n",
    "1abc2\n",
    "\n",
    "\n",
    "pqr3stu8vwx\n",
    "\n",
    "\n",
    "a1b2c3d4e5f\n",
    "\n",
    "\n",
    "treb7uchet\n",
    "\n",
    "\n",
    "In this example, the calibration values of these four lines are 12, 38, 15, and 77. Adding these together produces 142.\n",
    "\n",
    "Consider your entire calibration document. What is the sum of all of the calibration values?"
   ]
  },
  {
   "cell_type": "markdown",
   "metadata": {},
   "source": [
    "## Aquire puzzle input "
   ]
  },
  {
   "cell_type": "code",
   "execution_count": 2,
   "metadata": {},
   "outputs": [
    {
     "data": {
      "text/plain": [
       "\"\\nimport requests \\n\\nurl = 'https://adventofcode.com/2023/day/1/input'\\nresponce = requests.get(url)\\ncalibration_value = responce.text \\ncalibration_value\\nMessage = 'Puzzle inputs differ by user.  Please log in to get your puzzle input.\\n'\\n\""
      ]
     },
     "execution_count": 2,
     "metadata": {},
     "output_type": "execute_result"
    }
   ],
   "source": [
    "# I origonally ran this but I have to log in to get the data \n",
    "# I am getting an error message regarding my account login \n",
    "\n",
    "'''\n",
    "import requests \n",
    "\n",
    "url = 'https://adventofcode.com/2023/day/1/input'\n",
    "responce = requests.get(url)\n",
    "calibration_value = responce.text \n",
    "calibration_value\n",
    "Message = 'Puzzle inputs differ by user.  Please log in to get your puzzle input.\\n'\n",
    "'''"
   ]
  },
  {
   "cell_type": "code",
   "execution_count": 3,
   "metadata": {},
   "outputs": [],
   "source": [
    "# download the file from the website \n",
    "# read the file from your folder \n",
    "# Create variable to hold the file\n",
    "\n",
    "with open('input.txt') as f:\n",
    "    calibration_value = f.read()"
   ]
  },
  {
   "cell_type": "code",
   "execution_count": 4,
   "metadata": {},
   "outputs": [
    {
     "data": {
      "text/plain": [
       "'5ffour295\\nm9qvkqlgfhtwo3seven4seven\\n2vdqng1sixzjlkjvq\\n5twonineeight3onefive\\n2three2seveneightseven\\neightsevenfive3bcptwo\\nfive8six\\ntwonineseven24one3\\none8bdxplbtfninefourspqn\\nnineeight3fiveseven\\nxmkhttr64htgvhjfivefcjlzjqrsjlfivekbcnhqpzg\\n261flvsthree\\none2mgnphzcx45rmnffneight\\nsevenfivesixzvpone8f1plj\\nccthpbg6six3\\nf1hzds5kfdsj\\nqkneightwofourninejzjfmkjv8eightthdtp\\neight62rvkjphrdtwoseventwo28\\neight33\\nsevenkzvnkj5ftone\\n76sixrcznjkthreethree72nf\\n5nnine\\n3cjseventhreen\\nsixsix18ctxvtxbs\\n7mksmd9threetnkbtwo\\n7hxnrgnl8\\nvq3dcgtlzgfives8kthone7\\n76tmpjjvbzzclfour\\nptwonefive2threekfrtvnbmplpsevenseven\\n79sixone\\nmheightfhllpvk6rdnrznkndp\\n7sixfjsspxhljrtsz39szdtsrfkh\\n3prqtwolcljdhcksix6three3gjkvcsz\\n31vjpsdqlncjone\\n2qhbsjcxqfive\\ncccgsqgj2seveneight2\\neightthree65tbhvpnthree\\nltpeight27fivethxzjthree27\\nm31cxstb4\\nxfmnzconevzmzkcthree2\\n837\\nvjone779jzskrxqgkrd2\\nrgd9eight\\n3onetwo34one\\nthreeffthlxtmc8zfpl7fivetwo2seven\\ntwo6rxqghhnnthm\\n9gfjhhlc4hlpcc\\nglcj9zdnfkrnfcvqqhr9four\\nseven6564four\\n3lrlkmqbvllqpn7fivedmmqhk\\n8fivefiver3eighteight3\\n3eightthree\\nbhzsjfivefour391753\\nnine5sixsix4jrqdljfive8\\nthreeninenine68gkjlrh8n\\n7vdprdhrmbrnineonektjpseveneight\\n3prjtkg6three1\\nnine5rnbxdsgdnine2seven\\nthrees6\\n62zzbgfq7\\n5hbcvdhslxb\\n6msfzlhmksplcbmrqoneoneone\\n4sevennine3\\nfive99threezmxsj7sqbtthree\\n56vbt42three\\n12fjlcvkgcv\\ndnsdbrphqhrthmqtm7sixonezv5fgtwo\\n5seven5fourlhgb\\nfivetwo26threeone7eight3\\nlxlzzhfkfive4eight2fivezqkdxczbmndvflrsq\\n71nineseven5one58\\nfivelncljrgtxkdq51gnnpvtsbnine3five\\nmjlrpthgvz57skzbs24fourtwoneklr\\nnjqlhp39five\\n8xxmstonetwolhlcgzcpqb\\n8gjqlbgfive\\nxcdssbrltmf8sevenkxntdzgfsv\\nvhgjfxeightvfvpgcxsnineninepkrjtqtseven7\\ntwo3ztllvnrmg7fivetwo\\nfive1jspfivethree1one\\n5stkpqcjhxvmrn\\nthree3six12fourkdmlgfbflm\\n7sixeightnnjnc4one7four\\n4bqszrqnfzl9nlp\\ntwo3threesnjpncrjljpcxhjdzxqcjcjbktvxjgvnfp\\n36tworrhlh\\n43trbqvgrrsjbrxhk\\neight7five\\nfour934eight8three\\n9zjzhmtkt4bvljpttc25sixsix\\ntwotwocmzcczsjz2qcslmnjl1pqfjqfhlpmtjlpzpjhffxr\\n4fseven\\nsevennvxlnineph8ninefqbm\\n2611five42\\ntwo7nine\\n7eightfour7gh19\\n71kzdvkfbqnineonetwo\\nonesixnine325\\n5cbtbckx4vhtslbk\\neightdgczsgkc5seventlsfd\\nxdljsnqjctzmmxcgxctdxxg73four\\n2shjqglxct5rctbmgvfvjfvrqsvdmthree\\nthree71onekbksz8\\nninesevenzrcxnnbvninetwoftsvg39\\ntwofour36\\nonerddzfgdnpkjxlbh9twojbtqk\\njjcnine59lgcttxncsix\\nninesevenone76zrtmvdponeprfszns\\nbzrxtwocqczcmkdlnjtwor7\\nsixjqcgcl973one5eight\\nfreightwo7three\\ndnzdrnthreemlqvrjspl79kfkfrbjm6czkzqvqp\\ntwo7953mftrgpkxjmrpvn\\nxone4vqljzqrspsgdhvnsgsptwo4\\n2612fvhthree\\none3nine\\n8five9onetwo\\nfourtwo45sixxkjgdvrpltlnrtdbbpjjmqq\\nfour1fiveonenine6\\n4three4\\nqkjpskjglpeightjnc8two\\neight85sixfour\\n53fivefive\\nlbmqqpdbpnppzzmttmbpkxbl6sixfour\\nninemlm7\\nmbvxvl2\\n1vpszgjvdbd\\n7qd7two3onesevenkkgnnlztzxs\\ncqrnn1ninefxpglvtkf1\\n7sixvnknzqpnhvsix6tbfnljfoursixrjzqxctmq\\nfive889four\\n5rvsk7tsljtfivefour\\nprkhvq61clveight9dcvcfsr\\nfour6ninenp2\\nxoneight2five3fqmc6zrgcbzbzghpvbzt\\nsixghxgbjfivesxrth5frzxcjfivegnktshzrpmbdlp\\n6prgnxdseven2ggcqhc88\\nfive46\\n4bmvzlbcsggseventhreefivesix66\\npzkljhppcmpnnng4\\nninefivemqnjsmkgtnzzstrq55\\none4lveightqjhjjzmrtwo97sctp\\n3vzdmk\\nlrzj71215\\nthree78ddzzmvfxfzsqtkdqtfsnk5\\ndb7\\ndeightwofour9eight63foursixcgllm\\n123\\nsevenninegtphtjkkbhdx6sqbggcbljx4\\n8qtk4\\nthvml91nngfjgrsfive2three\\n17nine92twojkvmfrmpqhtlk\\nninetworcvtjc76\\n5jrzpvgchg7tlfdlbfmxj8stb\\n3t6sixjtnjxhxnfv\\n9f2skxmzgnthreenine\\n8sevenonethreeeightsixthree\\ncsrcdmtmscqvqkpthreepfour86\\nthreeseveneightfour5zsgfour\\nonellbgsvseven9\\nrnnkxtbnx1threekbddbpzthreerxcnbcgx\\njbvlsxdxsixxjj65one5fours\\nkzsix4zg8fgmzc\\nmkfpflcpkd37\\n5sixthreefivectltwo94eight\\nfponeight86phxr\\n278dmxscxb42\\nfive86\\n63jqkh7sixnine1jmqsqtdhpg\\nzxchvfnvskctd9\\n64sgddnvnm6five37rzhpzlccz4\\n69nzlzkrkqt9ninehqrmvklgq234\\nqqtc2pdzzddgjrfhcvsbrbstwo4pdl\\nninegjlqdclpmgcjfdqhhsl7n\\nvoneight6\\nonevfqrnvpm9mfkgseightonemrpj\\n9twosixfivexz\\n1mlbvlninepjvn1onesixfour\\n1one33fiveeightfour\\nonevsrlmzfivefour11\\n5gpfqbtn9sevenninefiveseven\\n8six8oner3vxgttfhtlnnine\\nqc1kcpnpqdthreeeightwoj\\nv8onefive\\n8eight56kkpnbzvczmkxtzkjbcm1\\n1threegeightcjb5pdpz29\\nttxcmthreekdsxdfxvrclfn4sixfive69\\nzgddz389\\n2one344nkxtsvf762\\nklncdshlrkpfrxflsncnfmtg5\\ntrvmkbjvreight2kdhxfvlz3ds\\nseven57xqrzmcsnjftfthreeonetwofive\\n5five686lvmlgk4twonefmr\\nsix1khm82xronexqhzjdqzx\\nzldbsjcsnine6vkdslrmtnpthree2\\ntbbtcl5xnsrjdz\\n1pqxgmnc1\\n3ninefckfrppvdlmf7\\ncprpq7three9twobql\\nfivexgjsgvpd12lzvcbpstpsprdvs\\neightone2\\n4threeninexhdcxrffive414\\n79sxxtpxtpmj\\n37nine\\nmfmgtz32smkgxgmnk\\n68sevenhmchv\\nskjxk9shvdrznrrz5onetbdcjmk73\\n865seven\\n4twofivesixbtqjcjthreeeight\\n64fxctcljfsixninedxdbthree\\nrgxzttr21vnvgbcfceight91\\njseven422onerzpxvgjpd\\ntwofkktmpvcb4zngnnpdsixtwokgxcgk\\nxhcddkcvjpcb4354\\n88eightsevenseven\\n2twoqpxtqlccksixthreetwotwo\\nvqnlmpsixvpbxdnsfive4\\nfourfivefive6one\\n7xlkzc4\\n17klxs\\nsnml9\\nninepzvg964hqczmdfvnbvrkngrs\\n76nine5twosnm86\\nprjrjfxffczhv4six\\neight53twonine\\ntkjh2eightjh\\nk2zsfdsm\\nfour1hlxxvgqcgvhcdcjrr68\\nonethree4nine844threetwo\\n94twonedsn\\n2four3five4tgpkrjdmdfrbjddkxv\\n3cnsj\\noneninetwo3cpfrdhnrbrd4\\n2nfcbffx1qhszkhkmmeightnine8v\\n4three6llthreemrpztjb\\n53xksczcvmdsixnmxvqcctpv1\\nxzhhpr66threeblplpkmktp9pgseven\\nseven63twoneb\\n9btlntpndseventwovtnplnqldthreenine\\nnthreeseven4five\\nzpktwone1gjzntpllkghhsqqsix8p\\neightfourlcrkqcjfsheightfive69\\nhvkv8\\nfour93dzrfive9eightthree8\\n9fivecfour47threecpcjbf\\npb1one8two\\nseven64twofivefoursix\\nhgjjjj7mkxztspmzvbdcbbfkone\\nmkdmqzfpkvqfcfiveshstxgnrs9fzzdr\\nssddfgcd2three\\nxzzrrxm28seven\\n1nffqfjtmftwothreeninerqbthmhkhseven\\nlkbbgsjmbtpgncfive63\\njddsdrkmhkthreefoursixone1\\n6nine5ngdcninemq7xqlsmdkgjf\\neightfhppf3f9jgdvzldxltrgg2\\n3nszqpfth9338six\\nsrmhtvn46five8four\\n6qqttwoeightthree\\nthreedpqxmlghsgls8sixsslthdfzdknmjeight\\nrtwone66four2\\nsix4dt5one1\\nxrmlvrfpmtttvppc5\\n34fivesixfivesix\\n1rnrtkbqlpphqlch52eight\\nfourgbr19\\n79sixfoureight8\\nkdlqxjzdx7mrdqpeightzgdx\\n1eight6254dplmqrpkq1\\nsevenvqpnd222\\nmpddrhlncrp1fivev69znxthree\\n87znxjsmsvlzxbfivesevenrgghkbrsdq5\\n5rxbkctnsfeightxpbllldgjxqdrd3dmt\\n6twog48eightone\\n2sixfour\\n433onexklbhneightfour\\neight5hjlmdsnzxeight1\\n9fvqtc\\nltmcrnhrpqtwo7five9\\nsix55\\nmpsjhvbxmkpppfjhdjlgcrvkzpvds6htl\\njldzmj671vzljbmrjtwo\\nrsznrsrtcz2threerk5ggdrtfmktrjjrdpjvvhshhqszzmbzp\\nnine53v\\n6khbvone\\ntvzoneight5khzglntxjgb\\nqtgx9zhtrqcnlblvrsngsfkeightninefvlnpjbxsix\\ntljmkjbb1kncvqsix9jthkqlkvkztjjbtrbqjxjmrblzzjfive\\neight6l\\n47qxgjthreeeightwohp\\nlqponeightggj4smzdbzqg86three\\n75znine\\nnvqgzfx4five\\nfive8pks78fourdbspf\\nseventczx3threeninemlsevenmvntwo\\none59tqqxbjhp\\nsix5threehgmcnpvone6bsix4\\neightsixckfpcffour4\\nhbzjvzdr2five7\\none4jxz5fourm\\n76bbldjckqksixhcmb3\\nonenine49vq\\n6rzxhsmnfbmqgsgvt57k1six\\nzdftpqqplpqfhrd16four\\nninebsnjtrkfhgfbqsnqhrthree1mqkrrtxnine4\\nnine3lhrzkbcmzq11\\nfourthree5ninesljdvseightsix5\\n8qjtbfjpf\\n8twobvtgbgbtnxrh5lblkxtnlphfmhpccfzz2\\nbrqbgn27377kltngmlqsfnf3\\ntwotwo67nkgmth9one\\n29twoonevqffqqjqsixthreeeightseven\\nxbrv6qgqjxmvjkr5ngjhdjlvnjsmlqgngfr\\nggbmtmbcrnkj83vhhgdjlfsix4\\n4blnxlvmq6zpfpgxcp38\\ndcvrzvqcteighttwo3cxfn5\\nqzsix5fbqbflhzzvblfhvfgmzkm8\\n7twojtbdkzpsix2seven6\\n6six86\\ntwo4sbnnsskqtm\\n19onefourfivefoursmg7\\n9rxrbxbmqs1twoseveneightthreetwo\\ntwo3zmcdnm3rlpkjqgthree\\ngtlkgpmpprpbbrzjrsp9ssvnzg68nine\\nptwonerddxhnzfive53xhflnccpfkeight1one\\nsixvxlbllseven8seven81\\njhfxcvccjdsevenfive58\\n5ninefourmz\\none7three9threeoneonetwo\\nfour4clsfoursixxvkzx\\nfourseven3\\nszeightwo18l16rxcmvdmkcvb\\nbdzqlbthreedsb45five9\\n8pztdljxbjjthreenineeightseven7crkdr8eightwocb\\n9krvttdxf34mrpzzchrgeightthree\\n8jqlmgseveneightzvxrszfsixf\\nninefiveztthreeeight7l5\\n7vhbjdnldvlfourhpptwo53pqbnzqnine\\nmxdhsixseven6\\nthreepzlkeight7ppdpqqlv\\nnine15threeqxlrngntwokhzgh\\n4hblzjb22\\npm6eighteightsnztcmfoureightninefive\\n3jffzhl\\n97dlrqzvfour6594oneightltg\\nsixlpfivelbjktk7\\nthree23seven\\n44x7twoninedrzvnfourseven\\n8xpndnspgbnfourzcngchbmd\\ngpdfptgjxcthreeptmpttnfive1\\nrzcnffhslj398xrhlkbxbcgqtcsjdl3three7\\nfourddqlonetwo5ms7\\nzjnfvksq4djdrjtxdmnsixqshlntxn\\nfournpgkxtp4twojtmqgjgnzdxrnvdxfsltzpflmg1nine\\none2one3\\ntwosixfgklbnprck26vstrjkfxgmbhhceightwomz\\nbxxbt5two2g7\\n5gnineone8697five\\nvcvsfxdninecz8stcvnine\\nfive8fivenxzcjqjxfrbmhdnthree6kkplgmthree\\ndtchdczdvbsevenzsb4one\\n78cdeightvjdlqpvql2fgrrrd61\\npvr5nineoneightzvs\\n8three8jvthree\\n2one6one\\nthree3six\\nthzmsdbqthreertfjsddone7\\nnmhctqdj3hlsixonevkhdbvskg\\nfive42255\\nninefivenqmljgv3\\nhjgm71\\nmldfbltrfn6jxjsixpbkzbcqvcj\\nthree8nmmp9threeeightwohft\\neight9zltdfrdnrthree\\n3twom\\n5kt\\npgvglmgpjtnqnkg96seven3seven\\nlhnnine2qjptwonine3\\neightfourllgmfkjnthreegc6bbdrfcninem\\nxmlckt9kkdprslxthree91nine\\nthreespfklnine538\\nqlkbjplh1\\n5sevenfivefour\\n2ninejsjfngfhhldkkghqlmflqfbqpvtnsthgj8four\\n59eightthreejdzbzbfxlnjqgxxhpbhqhxv3\\nthreebsgqfseven4xdvnpvpnzslfsvxvshptjffn\\nvnnpmdqhzm61sevenfivepmbktbsdljp\\n379zffourxvlvpb6\\n3mhlnbdqr\\none9kjqtgm5hrbrxrseven\\ntwobqssixdfz6\\nf1bnhjnfzpcrsevenfour3\\nninefive1\\n5oneonecfdpdqthree75\\neight7ninefivesft2cmfonefour\\n8fourfour\\nbnfive69vcqhfive5ft\\n9lkpj2eight9ssmsbh8three\\nbq9drgtone2sixfour9kthrmeightwob\\neighteightgppg86\\n1six1fivekmnkvlfnhsxtpthree\\ngqxqtdktrltmhqp4fivelbqsrklgfllrh48fxgdlcvsrc\\ntwothree6ckkclhsnine\\nfive5eightqfn\\n37threedkvtvnfs3mbmzhjbnine\\nhclcdxsvhzpc9onethrees\\n6gff5txnv7qmgptkgdrggfnlh\\nnnpvnstlb9hhdqjhbxkbthrzclvsbgktwo\\nzvkqdqmqgfivetwo334vzgvllv\\n7foursix\\nninedfbmns5xqthree\\n16frxsevenpnfbgdhb\\nqqfcn6353one\\neightpczvxnzmhkgc25ztrrqkmeight\\n94lnlmx2\\n9mvtssn\\nkctwonegkprf9onefive38bjsvnnxsgpseven\\n4stwosevenkccc\\n1sbnbxzninesixfkcdfl\\n69eightonedsjoneone6\\n8five5rrsplshtlmrj\\nchntvmpkdr8nsnine12one\\nninefourqlxfj6cfzczseven4v\\n1gsbnklv6lszhmrrfvmsevenpfckscfn5\\nlgt9ninekgstwovkgqckhbthree7three\\nztwone91ltzmtmgpdr\\n1eightlqvrone\\n11jbvdprskhkczr32tdjmxbf1\\noneqttfcdtxbt6\\nfour6one8mvzqskzgnh\\neight74fourcnflfncmjsix5skdqcmvtwo\\njmqpvlv71\\n9oneightgd\\n8341\\npdtmqvhzvp7\\nbpfnfdm2eight4\\n2fivedxlntgmgjtwooneightt\\ntjmvvbqmq9njjxrbmgrlcbrbtzjbone\\n7sixsixsix\\neighttwo6bheightfour\\nonedtdhrsjsvflfmrkfz3d\\nhxbzrvj5ninenine\\nvdldceight7eight\\ntwombtmnntjsfpmvjhqt2\\n2eight96\\n9fivegbgvtpzrg1\\n5three1fjhsn\\n473\\nnp8\\nkbdrczcmsbfives4two9sevenseven\\nninelmrkgtfive145five\\n5two92eightdspeight\\n6zxtlvlrcl\\n1mkcvsctvh1eight3pmrckhbone1\\n4pqrrvqsqlvsixbt1\\n742cl2qnknmcxqjtklbjmsjdvdhngptpljmfour\\nbfsfcf92\\nvzjlrffouronertfhcsmdgbjrdcd55\\nknineonecmsvonetwo3\\nvpnqsix2qgptjp5shdeightthree\\njdp5lgffkrmsxjd8twoeightgnfzkpt8\\nfour6three2rq6lpseven\\n1pfnmmpctwovqvonebcbqjhghrbthreepdxf\\nkpxkgdheight4nine\\n839sixfive5kh9\\n21seveneightmffgnmqvbfive32g\\n8twozncssnsllksbncbz1dgmtdljdssix\\njchhdqjf1\\n7six2\\nonefourtwo3five\\nzgktwo3\\ndlxdsdslhnine7\\ntwo86\\n2kjkmmjbsprfourseventkqlr\\n5threetwocvhlnnqhchchgl6\\ngtdlffspsjhcnxqdfour6\\n2gkldzksdxcnhgcdvshgxjv9rcxhh\\ntwogjx7nine\\n25threeqmh9qfghrnvzb\\n248onefouronexcjbbqpcfb\\nonethree8pqkzsmlfdcfhz\\n74j\\nszfjpjbnfcjmsthree9\\n99msrmcxn\\n1f9twoone\\nmrsvrhbgfone42fivethreetllzkd\\nrnrvx9925\\n4fourzhonefive2eight\\nthreeonetwo3nfbgnjxq\\neightgz1lnqeighteight\\n6fivefvvtvqcjsix\\ndjrl13\\ngppmmzq5threej7pc4three\\n63sixhtcmp1sixtwo\\nfcjjzf3nxdtxnqmtjthreeonefour2\\n8fpbc5\\n25mrzjfppbfourfrzrspqkcbmn\\n1qrmkvgxnc\\nqvbmn7\\nnine6lvdddmrfxc4two4cdhhdzthree6\\nmtrjrfb6htv4mcrzqrbkthree\\neight3oneseventbbdqpffnfm\\neightxfll15rxkdkglxsthreethree7\\n38fivethreelsixbczgzdffn\\n884twolp1ninetwo\\ncsxl4one8\\ndtrxqjshbfournine9two5gng\\ndgpvkcqzn7\\nnineeighttpzfnpzdtjzseven9seven\\neightnkrrnmbvqz2cvktr\\n55nine6kttszrtjvm\\nvxvzmmmnrkzvkffivetxhgj8pqtfvvlprd\\n43kfvtplhjfdfivefiveseventwothreezkmqlsk\\ngpkgckdone7xssjkmlsgddg\\n4fourqrspbqzzthreefour28five\\none1st3kmseven\\nfourjqmmbone6four7gnine5\\none93mbdbtqvtqmcjxhtzst2onezhlmszqh\\n7krlt\\ndbstsmrm4onefour\\nvqqxjteight3\\nppndcfssbchr2vsr4xdhzvs9jbdkrh\\n2vdkxkqmrzveightzrgnineninentx\\n6one7\\nthree24sixsix\\nhthree441threemchrone\\nthreeqhxzkpjkbthree5\\nseven5hcxhlgxtr8qjtjpqnqc\\n2mcxlqpqqffvljnhhlplnmlq\\nfvbckcgjgk7two\\nzgglpqj92bjfvrfntsdfvffx1fourseven\\njgeightwo6\\nldthsjlm6crjhxdvlqthree3\\nfive38threenine4dgctxdfour\\nmljrxk52eight3bkbeight\\n1mkkgnvzeightninesnr\\n895sixd\\nqqngkprp9eight\\n9qp1cqtkhdhdlv6hrl8eightwodln\\nldgksxpnp7mxckrpftsixone3bqkktvmqsix\\nchtzvmneighteight5pjrdxrmdqh82\\ntfr7ppsxdfvhtsdlqlmbscfourthree8bxhgtztwo\\nthree65dnlpgcmx6\\nznf69pbfsbfmxgn7four9\\n5bhqfcghxssjflbzmrninesevengbqvtkgs8\\n3vkdpfdkhpsix96eightgbckkflpq\\ndrkbpmfkrrzqeightninevgznnmf9three71\\n8lpl4twoneff\\ngvffv6229eightvbgbhzb8\\nxvrzxvxmsv3oneeight8eight8\\n4vfnppkqxvbxfktcltspgbnljp2\\n43twobgftvc\\nsdpmpm4sixfourzlxkfrt7nine\\neightzkxc6nzgjfgmjdfive37jcz\\n624fivetxvlrtnnng3\\nfivefoureight5xrrvkjflbktjmxsonehlzggjkft\\nthreextctdxfcmjsqxt9hscbhsevenfour\\nsdvmnpdfvsdslcqft3zhdhdbxvbkkseveneight\\nnpzx52done\\nfoursggcg88sixzhf4\\none2fourr\\njhjgptzvjhvs8eight\\ncdsrpfqmtnthreesevenonefive9\\n6five4four1xjjlhgsv\\n7nine5eightjbrdlvfphb\\n8ninegrhnkhsfc5pstfcrttwoone\\n9kpcchc\\nseveneightnine24\\n91two\\nfour9vvlfive3five\\nthreedmxvdqfrhrlfour5sixngmpngxvclcjhcrseven\\nthreethree36seven1five6\\nsix2five\\none79581eight\\nxsrbppnt7nine8\\nlcltq633rvzkkqxfxmonenine3seven\\n4two9hnjxpmft3mkzdqcvjpsmnccplcqk\\n6six3\\npr4eightfour2sixfivekgvstmktkcbqgz\\nfoursevenpxgbkrmmcjbvdvqqcrdhbx1zkg\\ntkkl8sixvonesztkszlmzbczxgdnnkmn8\\ngzptmplvxzmzjqfzrjcmjlzbfdrpfpfivesix3three\\n848kphtdjgqfkfourshmzjpfdpsdfzxlldz\\n18eightjmlzlfdch64three\\n8pf6\\n5rt51\\n9ffpmlqnbcs7lcsrbczglslhrrphbh55\\nlcmllcsix7sbcrrrlfiveeight\\n9lbkmqrtfgxjphplc4eightfivethreesixzdpgrkptj\\nltwo9\\njbklfg3oneg\\n1g6sixlszmvjmrf4dzvnqcbzh\\n8lfxxtmfqslxqjxxshqs4\\nxddmf6five2\\n454eightnxtlqzeight\\n5xgtstcbfg\\n2seven7dqseven5hkndsjthree\\nsevenncjnrvvf24threezxdzps\\nonetfnl1xmlqkrsjbtwo71gbscmnmvnvmjj\\n8three8seven27cqxzkpbdzfourhghz\\n4kcrthree9\\n1dhsvlhzr8ngdb\\ncqvfmsdnone4tcfqhpdgzsixnineeight7\\nthree7mtwosix\\n5eightonefourzxlhlhxlbxds4\\n8dzvdsp9xgnine\\njzftwosnpgtpqt1\\npdpfive72eight\\nlbvvclr71zmfmqjfq8gqmmltwo\\n84three\\neight9fourfnzxkqt5ss3\\nthreethreetworfqzpqfour172\\nninemzxqfzqk96df\\neight7cknshzjlnlcb3kzseven\\neight9seven\\ntwok5vmxtlpdhvthreeone\\n6seven2nmjdbjscsevenvkdmp\\nsixseven8\\nqslfivetwogvvlnine7ninefive\\nnrdcfbqczppphqvqxcd6mz\\n78ktndqqlrrlfourcgxpnvdps5\\nsixtwo8jrkz9q\\n986zhdpnlmlpseven\\n1six676rnine8eight\\nthreebdqknone9onefour\\ndmnbb39seven6\\nthreeqshbxpnm41two41five\\nmkdldph7eight7736\\nsevenfour25\\np5q\\n263rgnrnmn97mbrjfnmgzlrgz\\nhmfgzqjtmhmncxthree26csfnggsmnt\\n8bzrjhrvdlzxnhctffoureight86sevencjtrpql\\nnine5twozl2seven\\nbsssxvkksbrgszldgpbfmxqldeight8tqmdvmdgrnclceight5\\n2seven41sixnine5\\n143lprjcnrzfive\\n2seven3\\n7853\\n46stkfqskgx9\\n4pztjcp3pmjnnts\\nsixptnckh8t\\n84seven\\n815four\\npxxvhzc9rtgv1dph\\n73foursix4nflbrsvnzmmgmfbpg67\\n3nine57ninelzcsqsgrn\\nspzldcone17seventhreethreeqlrq\\n7three3zmmfvxtsdsthree\\nmgvmckndvnpc89jvqsix5\\nfouronej34vsrzdgnm\\n53g25nkpgckxl\\nlhtzx73mhqvgflfkblfjqrb4\\neightfiveone5ktqstpvmszlhhssjbn\\nvgznine5s\\n5cgp\\n6cntgsl4ninemmgcsqntl9mzlvpqjz1\\ncpcqqv67seven33\\n9jvnlhceightvmtxddxlng5three\\ngcfcnpkjcj6five247zn\\nonekqqdjdqgnine1eightonesdx\\n8qzmdhp9983\\n1sevenfour\\nqvjfzqstwo7six\\n2sixvzvmsc2jczxrlcq5rj\\nptgqfourvqmtglcnine7three2eight\\nxkprfrrjqr2eight6sixdkprbtpmpjxfvxtz\\noneninetwo7cdbbrrlnjk\\nhvbhdqnpgzsevendjggs1threeglslxpmv4eight\\nfiveone348five85\\n87fcxflzm7\\njlkoneight9seven\\nkx5hjbmqg8\\nvgklfrnljrbqeightfour5fhjhdhjgttxntmm\\ndtrkgphmlftq9threedmpbgsnsvzvsevenxnx\\n113nine8fourmvqqfblbgz\\nsdssh8nlzpgqdhvdpxc\\nch2twofour26seven8\\n1fivebmxpnineone3eightwojhd\\n6xknv3threethree3\\ntwostx3fourtptgklkfg\\nfourh9lxgnine55\\none991two2lf6\\ntwo3jjhcmsd3sixeighttwoeight\\n43ms3sixthree4\\n9fourfrzrgvxrmkb6onez1\\nnvtjhfpbht376pp5eight\\npbtclmsrkxspmmnchlm2sevenpqnksccztwo5eight\\nvtcjnine3\\nmcvsbgbktgssgkqxs1pztwo\\nkvndtblmgqbkzxhmghthree47mtqqjctxtm\\nbjkndjfivezctcbhzpffthreeninefourseven1xmfdsr\\nrhgshgkmtd9\\nsixtwobrnkvrlnsix7mvbp\\ntwoninefivefive8fourvthree\\nkk3\\n1xpjcsbnpxtwofivehqvxpgqznlthree\\nvbcgppkcjjxqpknfthreefivenine19n\\n74jfqfbsjthjkhdzk\\nnine86vmclcgfscreighttnmlnsvdpxlkt\\n3dxbsctxgntfivehlcbdzgqtxvqddsjdrjnpgjtxhc\\n6ftlgzrbfjeightsix5onesevenfourtwoneh\\n4ninezcpvppbktl35eight\\nfour7five27nine2\\n5qhbdqjcdtbsevenfivenine\\n99six\\nfourfivezhgtbmkhxrj9threehtwonebj\\n4threethree19threefivetjmcnvpkrfdmhjsnzlv\\n7sevenvxmtninefvvprtdhkhxpkth5\\nqbmtvl12fiveclone4three\\n44fivevpqtslbxkskhftmk\\nltbfourkpbgvx3nine\\nzxtmnh111stz\\n3tdvhjtfdcheightwobjf\\nxrn14foureightspmeightspgmvbs9\\nj1\\ntxsmrhnzf9fiveqnine4\\n31znnthgrtzf33dzxtdndbf\\nvdtwotwo4zjthree\\n17tdhvl4txhjthree9two7\\n1nttq8tphmdhbvnhcfqmvtmfxm1zzdcll\\n991\\n5zxlddbxrpc628\\n91dgxjxkrxfxtgzmfourzqlvpqvdbmgxxx1\\ntdk94sevenone6\\ntwo1fivembnftwoxqqjzdfivetxxm\\nfour5one75eight\\neighteight8znlfvz7\\none3trkt77qnkgldtthree9two\\nfourdkgjxbf8one3three85\\ngkgsldqmndfrvx1tmfchpxsfxeight\\nfivevxfdmlrdqseight2zc3\\n32threegcznf25jvfn3five\\n7one86five\\n7vdckjfive8four7one\\nsixeight5gcdnine4\\nvgnvsv2zhvqkbrninehfkrn87\\nfkzonekghrlnmdktwo635\\n8fivekrhmdnt5sevenseven\\nthree96bcvgp4\\njhnvjp1rhrfive\\nfpvhhkqmgstwosix2jfour\\nsixqfvvbfvljmsevenlzfr5\\nxpvdzngsdz3nrvkr4lvhhdvmxq\\n8vlxjqpvpqmqnktfive\\npvgxjdb7pqk711\\npqxl3r8sixsixpstcxjtjdrns\\ngmmqrkfqrzddtmpnsvzkqnz3zjqbn9threenlm\\n2823eightfour4\\ntwo558xqtrtrtf8tnsj\\nbv6twonmfttddpf\\n17nbtdjone48\\nthree6sevenzhzstnmlkf\\n89eightjlphdkfszlfftq44\\nthreenxqvz3seveneight\\n1lzdsevenseven3onefourtwoeight\\nnnd1threez8\\nsix9eight2nxcxplkdp8\\ncd88rkbvmqqlnfqgbbq66\\n2eight9cnzrk8five\\nonecl7\\nvjfsvqfivejhbscnhqkkfk31\\nfpqdkcsx6\\nninezztlsddbk3two\\n1xmfsfh6726threesix\\n6four6196one7seven\\n2bpsgvlgcqvsix\\n1464hctgxfxzb\\n6nhcbfour36eightwohv\\n9five5\\neight7dkktqkseven\\npxzxsqz56fourtwofive\\nthreednzfgdfpmr925two\\nkphngkzkpl867zllm95\\n39threekthvvqkvm2\\nseven6fsqfhltgvqnmghczlrjqnbjstsgprpxfhfphftfnp\\n23fourhjtvq7mp\\ndrq9\\nfkqsmgddvxhrjvvtsjlr5four6\\n5ngcfsqvlcl7vbfive3\\n6372cltztz\\n1threefiveseventhree\\none5ninebfdgzhqs581\\nhdqfour9\\nfour6jzfdkdzkrdnnshltjlt\\njlqtqzm6nine2one\\nbbvpcplzrbmjvvtm3qhk6fivefive2\\npnclzfmfqcgmkrrtzlbptfnhlpdfsix66hjghhrmpvl\\n7sgnbxrkvfour4pqkpdzgmsg5three\\nlqgfzc9six57five9fivek\\nrfour9\\n3sfsgzbfoursix\\n5sixsqddmc67fiveone93\\n8sixnine\\nthreecdgvgckq285\\nsevenfivetwo58qgq\\n4three3eightfouronefive2p\\nsroneightgmcbfhpsxdvlfqcvdhhk34\\nlxxhdmseveneighttwotwo5one34\\nthreeninevlvch3fourrvppn6\\n4dgjx\\ntwonpthklzbv8seven2lzbgktjfive\\nthreefivesix7cnvjqpzrbv\\nzdonefour65seven\\nnine5vnmhqdntnlkfx6threeztdqpnm\\n2three8\\ntthqsj6two\\n3sixfivenine4pslhjnine5\\n1ckvr8\\none8bnvhglghpq\\nzvzbnine91fiveseven\\nkffpqshlljcjqqlgp8threenine2\\n1fivek5qzfour\\nfqlthree14five1sixng7\\ntwo74fcrvqjtc\\nsixsixhbztdjfcztqrsqccdzb6lfx\\ntwotwofour4onefourgszqbqlnz\\n4fourcjthree\\n5two7eight\\nzdzsmflkzvxkzvzvfive6\\n6vsblnxtwozjmrs\\nsixfour95jmzgl6\\njgbpdkmltwo1xzxvvb\\npnvcbnv6jpfkdddglz\\nsixz95threefourninesix3\\n9sixthree3three\\ntbzq1ninemrsfjncvsix6\\nzpjxspcmzhkdchhxqcd8threesixhdhfourfxpjzfqbone\\nm4cnntxcthree\\n38onexslhfourvttrfeightsqthree\\neightng6pcz\\n8h1jkprzqdbz9six99\\n69nppconethree8\\n3qvlktndrrdtjrtmnine\\ntwo62eightthreevjjmtpmmt54\\nsmgmnkmpktthree27nine\\nbdtbhgsdkjfhgrctc2trthree\\nsix9sixthreeone\\nthree6kssbz2sgnine\\n5kx88xfive\\nfiveeightpnfqtzcrkb22\\nfivettnmjmlrlb3fourfourjxmsj2five\\nxeightwo9cvpbhrgqphgdsix3foureight\\n1nhpcsrknine\\ngqtxctr1lfouronetwo\\n3sjdmn4ninevjpqgjvmzsqv319\\njoneight7zphm2hkpnine3szvjtljlqx\\n2sevenmmmhvxnfourvvtkpppc\\nvloneonethreeonenine2\\n9tbsmxpmsevensix\\nj3sixfive6fourninethree\\nltmmsrbk8zjbpht9vxfive\\nnine1twoxpnsvnzqm3kgkkps7\\neightthree59\\nnine5six616fourzmxkjpxr4\\nsix42fivev\\nbgzteightsevencbbpfbbcrc5\\ndgmfbzbmlvzfive7pqmseventhree\\nsixsevenfiveonehcrbsevenfive3\\ntwomjspbjhmlsqn42foursix\\n8two2seven6fourninefive\\nfourfivefvg1\\ntwofour9\\n5vvlk3vfone\\nglrnhpdjq715ninehtone\\n1twosixmgrnvfmxxcfdtpjthreetwo\\nfour21\\n3bjsrzpnq49ktnmrmlgeight5bvlvqdkcnvrrbvx\\nfour4z3eight25seven\\n66bkdmrjh4three7\\n67zgzvldlkx2thgsbseight8seven\\nxknjonethreeninezjd4\\n17twofour64eightfnzkcgccljnrtnf\\nfivebgfpbtdn5f\\nddlkgjmgs9twolxhpcqh\\nbgkzkf5fourtlphndsxb3nine\\n5srkjggqxmr3seven\\nfourksnmcsbcxsevenbnnrnvr9five\\nonetwonmsixltg5jztchznvml1five\\n3sevenone9ninetwofive\\ncqzsvsqrktwo8eight681seven\\nsix5eightx7lpvlqpcp9\\nsbpbrqksix99four7six\\nmqcldhrjm49nine62fivethree\\nbtskhbz7hkqnbhpnb4njbtrssp5oneonebth\\n2gtdvj9pbbbppkpg34dcjhbtc\\nmtphkzhdsix6seven\\n7dmsmrxfive2dmsbkhseven7\\n3five6xninezfqndzmtsix\\n8mrh5two2\\nzcpthree17ggpxmqlk\\n97tbtthree\\ntcztntvls2cnnlsixqjgkchpkmc\\ncjl462mdrxzzt\\nbbvhrqfjppsevenfive7fivethree\\nmfbmkd65\\n3471kmrcckrqgninethree7\\n2bfourtwocdhjzqvsxknine3three\\nljzxxfcbfive1eight8eightkx7\\ngsdcjthree1\\ngmctxtr1jdsl\\nrrjtxqqtssix45three1five\\n7633\\nsixbpsdone7fourrmgzjp1\\n26flznhqvrcpzfbqkseven5nine9zfg\\nnrqgcthree15dchnrnghkntktfxl\\nfzvbvntrhrmcx81nvnfppmz\\nqrfzn1sqg\\npcbvps9xhlkjnpgpfoursr6\\n6v7\\nsix75sixninezpsjptdfhkrk\\ndlfgjjkfmfngfivefive5lzrcbsz\\n6sfgpfg\\n5four1bvggfs62nineone\\n2eightthreegvqznfjmhdxhblxf7qkxcst\\nseven51ldfnhlpvzn1ctlmn\\njxdhkn56vmnxseven\\n89fjpcfklprlqkcbxjpdnp3\\nlxdgnhqqgvone3\\nninesftqvgbbl4seven\\n4pcqqxhghsnn9two8gqrqdzjt3\\n2jntsg1two48zbbclss5\\nonegcgcrccvsxzvkpfqdj4oneightrgd\\nxrpnjjdqxxkqjqjvgsevenjnnkmxxgtl2smcbrlcceight\\nsixone43\\n2nine1ninejrdzndmqjfourthreegnsxstzjqc2\\nrtptwoone2sixlxtn3\\none4twosevenbhbmlt\\nxfiveeight41832\\nbxgfchvjpgcmmmcchxsixcqeightskxbmscgpsix45\\nfivesix17zhcvp5\\njkjmvzjmonefour73eight8fiveoneightczf\\nnbsjxlmdzx95\\n8threeonesix5rzr\\nrxktdsbrr6nineseven7\\n4twofvhvl3srvtcgkjm4oneighthx\\n39mqbdrf\\n8sevenseven79xqtvrznine1\\n1sdckgsknfour\\nsevendmftpbmfzkctrfdzlhk3sevenfourhqbxcjn\\nhxkxzvz3147zksknjrjmvbtbrtm\\nxqnjh3518rtgcqggb\\nfnzvkdqhpmm555nljnxmdprb\\n97fourtwo\\n5xhkdtvkgvhvsthreebrvbp72\\njhl48khqkfbxjpgvprhbzp9fivepknpdthvthree\\nkjk6\\n43fiveonetlzeight16j\\none4threesix\\nmtsbnsgtwofourzkn3twoone7\\npmttwo45x\\n182twoone\\njpltone6one1\\n33jkrsevenseven\\ncbtnktlrksevenone4onesevensevensvvxjjgrx\\n9zzgsq34eight9eight\\n9five1\\nthreehfjkpxcvnbthreethreefour6\\nfivevgtwo1rctjzcrlninethree5six\\n1onetwotzhvqgtpnxz1vntznz\\njvvztshjdchbgkcxmjkjghth54twofourrvbl\\nonesix4seven7fourdgdsmvldzccqlhrxl\\n839hdjjplqgclx\\njqtfgbxkgb368\\n6sevenfivedlprsevenc\\n6czklmzsmxgmktzxmxsixmnlfxonetwonesgj\\nfour28sbkrsqcdgl1three\\nsllmdpqvvdeight5vtvcz3kthpxgfkbgklxrfm\\none5six6\\n3psklrfivefvlxrsghqveight34\\n6gkrrpj\\n32ddzqvxbpgrlndeight\\nnine16sixljvqjsddfstwo9\\neightmpfjpdkhhzsix23one5\\nrjnlkfv9txshfcvgzp9875qtqvbjjvbggpvmpqfr\\ndvjnqskcqqb5pppfvgcz7one\\nthreekllssmdxsjtwodzdcxjlk43\\nfourninervscfnpgt8xkmkflvtjthree\\nxcvpzpfdrtthreesix2nine\\nonektssgthree8rjvlkpq8mfour\\ntwoqqxgqblvmc8tqsrbs\\nfourthreejlgkfour6\\nninesix87\\n92\\npmzqmmdh9vqvxrxbhglj7\\nfourrhhhdmzcbvbldqlmb4\\nrtrx3foureightsxlp2mlxtslh6five\\n3nineddhmnfngtfour1seven3\\nlfnt5\\n3kjhffpxlt2\\nonefive29htsdkllvr\\ntbninefour4eight\\n18k62nine1\\nseven6sevenphjfhdtnrhfsgcfived9seven\\nttmtqrh3four4oneightrkv\\n42onekfbgxgtzl7qxzrmqbmeight\\n7fjkfdlmhqxtwoxcpssngss\\ngsntbddbnone4cjqjmspzcsxmvvthreefive\\n56four4one2\\ncqmzqbxzfvonevmmmlxsnjr5zfg\\n'"
      ]
     },
     "execution_count": 4,
     "metadata": {},
     "output_type": "execute_result"
    }
   ],
   "source": [
    "# our value is one large string\n",
    "# I want to break up this string \n",
    "# create a DateFrame to hold all individual strings \n",
    "\n",
    "calibration_value"
   ]
  },
  {
   "cell_type": "code",
   "execution_count": 5,
   "metadata": {},
   "outputs": [
    {
     "data": {
      "text/plain": [
       "['5ffour295',\n",
       " 'm9qvkqlgfhtwo3seven4seven',\n",
       " '2vdqng1sixzjlkjvq',\n",
       " '5twonineeight3onefive',\n",
       " '2three2seveneightseven',\n",
       " 'eightsevenfive3bcptwo',\n",
       " 'five8six',\n",
       " 'twonineseven24one3',\n",
       " 'one8bdxplbtfninefourspqn',\n",
       " 'nineeight3fiveseven']"
      ]
     },
     "execution_count": 5,
     "metadata": {},
     "output_type": "execute_result"
    }
   ],
   "source": [
    "# records is set to an empty list \n",
    "# create a for loop that iterates though a .split that I create \n",
    "# take my empty list records and use the .append \n",
    "# this will take every split, turn it into strings, and will be stored in records \n",
    "\n",
    "records = []\n",
    "for line in calibration_value.split('\\n'):\n",
    "    records.append(line)\n",
    "        \n",
    "records[:10] # looking at the first 9 "
   ]
  },
  {
   "cell_type": "code",
   "execution_count": 6,
   "metadata": {},
   "outputs": [
    {
     "data": {
      "text/html": [
       "<div>\n",
       "<style scoped>\n",
       "    .dataframe tbody tr th:only-of-type {\n",
       "        vertical-align: middle;\n",
       "    }\n",
       "\n",
       "    .dataframe tbody tr th {\n",
       "        vertical-align: top;\n",
       "    }\n",
       "\n",
       "    .dataframe thead th {\n",
       "        text-align: right;\n",
       "    }\n",
       "</style>\n",
       "<table border=\"1\" class=\"dataframe\">\n",
       "  <thead>\n",
       "    <tr style=\"text-align: right;\">\n",
       "      <th></th>\n",
       "      <th>calibration</th>\n",
       "    </tr>\n",
       "  </thead>\n",
       "  <tbody>\n",
       "    <tr>\n",
       "      <th>0</th>\n",
       "      <td>5ffour295</td>\n",
       "    </tr>\n",
       "    <tr>\n",
       "      <th>1</th>\n",
       "      <td>m9qvkqlgfhtwo3seven4seven</td>\n",
       "    </tr>\n",
       "    <tr>\n",
       "      <th>2</th>\n",
       "      <td>2vdqng1sixzjlkjvq</td>\n",
       "    </tr>\n",
       "    <tr>\n",
       "      <th>3</th>\n",
       "      <td>5twonineeight3onefive</td>\n",
       "    </tr>\n",
       "    <tr>\n",
       "      <th>4</th>\n",
       "      <td>2three2seveneightseven</td>\n",
       "    </tr>\n",
       "    <tr>\n",
       "      <th>...</th>\n",
       "      <td>...</td>\n",
       "    </tr>\n",
       "    <tr>\n",
       "      <th>996</th>\n",
       "      <td>7fjkfdlmhqxtwoxcpssngss</td>\n",
       "    </tr>\n",
       "    <tr>\n",
       "      <th>997</th>\n",
       "      <td>gsntbddbnone4cjqjmspzcsxmvvthreefive</td>\n",
       "    </tr>\n",
       "    <tr>\n",
       "      <th>998</th>\n",
       "      <td>56four4one2</td>\n",
       "    </tr>\n",
       "    <tr>\n",
       "      <th>999</th>\n",
       "      <td>cqmzqbxzfvonevmmmlxsnjr5zfg</td>\n",
       "    </tr>\n",
       "    <tr>\n",
       "      <th>1000</th>\n",
       "      <td></td>\n",
       "    </tr>\n",
       "  </tbody>\n",
       "</table>\n",
       "<p>1001 rows × 1 columns</p>\n",
       "</div>"
      ],
      "text/plain": [
       "                               calibration\n",
       "0                                5ffour295\n",
       "1                m9qvkqlgfhtwo3seven4seven\n",
       "2                        2vdqng1sixzjlkjvq\n",
       "3                    5twonineeight3onefive\n",
       "4                   2three2seveneightseven\n",
       "...                                    ...\n",
       "996                7fjkfdlmhqxtwoxcpssngss\n",
       "997   gsntbddbnone4cjqjmspzcsxmvvthreefive\n",
       "998                            56four4one2\n",
       "999            cqmzqbxzfvonevmmmlxsnjr5zfg\n",
       "1000                                      \n",
       "\n",
       "[1001 rows x 1 columns]"
      ]
     },
     "execution_count": 6,
     "metadata": {},
     "output_type": "execute_result"
    }
   ],
   "source": [
    "# Now that I have a list of strings I can create a DateFrame \n",
    "# Using pandas I create the DataFrame \n",
    "\n",
    "df = pd.DataFrame(records, columns=['calibration'])\n",
    "df"
   ]
  },
  {
   "cell_type": "code",
   "execution_count": 7,
   "metadata": {},
   "outputs": [
    {
     "data": {
      "text/html": [
       "<div>\n",
       "<style scoped>\n",
       "    .dataframe tbody tr th:only-of-type {\n",
       "        vertical-align: middle;\n",
       "    }\n",
       "\n",
       "    .dataframe tbody tr th {\n",
       "        vertical-align: top;\n",
       "    }\n",
       "\n",
       "    .dataframe thead th {\n",
       "        text-align: right;\n",
       "    }\n",
       "</style>\n",
       "<table border=\"1\" class=\"dataframe\">\n",
       "  <thead>\n",
       "    <tr style=\"text-align: right;\">\n",
       "      <th></th>\n",
       "      <th>calibration</th>\n",
       "    </tr>\n",
       "  </thead>\n",
       "  <tbody>\n",
       "    <tr>\n",
       "      <th>447</th>\n",
       "      <td>473</td>\n",
       "    </tr>\n",
       "    <tr>\n",
       "      <th>292</th>\n",
       "      <td>nvqgzfx4five</td>\n",
       "    </tr>\n",
       "    <tr>\n",
       "      <th>526</th>\n",
       "      <td>threeqhxzkpjkbthree5</td>\n",
       "    </tr>\n",
       "    <tr>\n",
       "      <th>400</th>\n",
       "      <td>1six1fivekmnkvlfnhsxtpthree</td>\n",
       "    </tr>\n",
       "    <tr>\n",
       "      <th>978</th>\n",
       "      <td>xcvpzpfdrtthreesix2nine</td>\n",
       "    </tr>\n",
       "    <tr>\n",
       "      <th>737</th>\n",
       "      <td>fkzonekghrlnmdktwo635</td>\n",
       "    </tr>\n",
       "    <tr>\n",
       "      <th>96</th>\n",
       "      <td>71kzdvkfbqnineonetwo</td>\n",
       "    </tr>\n",
       "    <tr>\n",
       "      <th>262</th>\n",
       "      <td>xrmlvrfpmtttvppc5</td>\n",
       "    </tr>\n",
       "    <tr>\n",
       "      <th>88</th>\n",
       "      <td>four934eight8three</td>\n",
       "    </tr>\n",
       "    <tr>\n",
       "      <th>3</th>\n",
       "      <td>5twonineeight3onefive</td>\n",
       "    </tr>\n",
       "    <tr>\n",
       "      <th>806</th>\n",
       "      <td>tthqsj6two</td>\n",
       "    </tr>\n",
       "    <tr>\n",
       "      <th>412</th>\n",
       "      <td>qqfcn6353one</td>\n",
       "    </tr>\n",
       "    <tr>\n",
       "      <th>951</th>\n",
       "      <td>182twoone</td>\n",
       "    </tr>\n",
       "    <tr>\n",
       "      <th>324</th>\n",
       "      <td>ptwonerddxhnzfive53xhflnccpfkeight1one</td>\n",
       "    </tr>\n",
       "    <tr>\n",
       "      <th>926</th>\n",
       "      <td>rtptwoone2sixlxtn3</td>\n",
       "    </tr>\n",
       "  </tbody>\n",
       "</table>\n",
       "</div>"
      ],
      "text/plain": [
       "                                calibration\n",
       "447                                     473\n",
       "292                            nvqgzfx4five\n",
       "526                    threeqhxzkpjkbthree5\n",
       "400             1six1fivekmnkvlfnhsxtpthree\n",
       "978                 xcvpzpfdrtthreesix2nine\n",
       "737                   fkzonekghrlnmdktwo635\n",
       "96                     71kzdvkfbqnineonetwo\n",
       "262                       xrmlvrfpmtttvppc5\n",
       "88                       four934eight8three\n",
       "3                     5twonineeight3onefive\n",
       "806                              tthqsj6two\n",
       "412                            qqfcn6353one\n",
       "951                               182twoone\n",
       "324  ptwonerddxhnzfive53xhflnccpfkeight1one\n",
       "926                      rtptwoone2sixlxtn3"
      ]
     },
     "execution_count": 7,
     "metadata": {},
     "output_type": "execute_result"
    }
   ],
   "source": [
    "df.sample(15)"
   ]
  },
  {
   "cell_type": "code",
   "execution_count": 8,
   "metadata": {},
   "outputs": [],
   "source": [
    "def recover_calibration_value(code: str) -> int:\n",
    "    digits = [x for x in code if x.isdigit()]\n",
    "    num = int(digits[0] + digits[-1])\n",
    "    return num"
   ]
  },
  {
   "cell_type": "code",
   "execution_count": 18,
   "metadata": {},
   "outputs": [],
   "source": [
    "def recover_calibration_value(code: str) -> int:\n",
    "    digits = [x for x in code if x.isdigit()]\n",
    "    if len(digits) == 1:\n",
    "        return int(digits[0] + digits[0])\n",
    "    else:\n",
    "        return int(digits[0] + digits[-1])"
   ]
  },
  {
   "cell_type": "code",
   "execution_count": 19,
   "metadata": {},
   "outputs": [
    {
     "data": {
      "text/plain": [
       "88"
      ]
     },
     "execution_count": 19,
     "metadata": {},
     "output_type": "execute_result"
    }
   ],
   "source": [
    "recover_calibration_value(\"pcqqxhghsnntwo8gqrqdzjt\")"
   ]
  },
  {
   "cell_type": "code",
   "execution_count": 21,
   "metadata": {},
   "outputs": [],
   "source": [
    "df['new_calibration'] = df.loc[df['calibration'].str.len() > 0, 'calibration'].apply(recover_calibration_value)"
   ]
  },
  {
   "cell_type": "code",
   "execution_count": 22,
   "metadata": {},
   "outputs": [
    {
     "data": {
      "text/html": [
       "<div>\n",
       "<style scoped>\n",
       "    .dataframe tbody tr th:only-of-type {\n",
       "        vertical-align: middle;\n",
       "    }\n",
       "\n",
       "    .dataframe tbody tr th {\n",
       "        vertical-align: top;\n",
       "    }\n",
       "\n",
       "    .dataframe thead th {\n",
       "        text-align: right;\n",
       "    }\n",
       "</style>\n",
       "<table border=\"1\" class=\"dataframe\">\n",
       "  <thead>\n",
       "    <tr style=\"text-align: right;\">\n",
       "      <th></th>\n",
       "      <th>calibration</th>\n",
       "      <th>new_calibration</th>\n",
       "    </tr>\n",
       "  </thead>\n",
       "  <tbody>\n",
       "    <tr>\n",
       "      <th>0</th>\n",
       "      <td>5ffour295</td>\n",
       "      <td>55.0</td>\n",
       "    </tr>\n",
       "    <tr>\n",
       "      <th>1</th>\n",
       "      <td>m9qvkqlgfhtwo3seven4seven</td>\n",
       "      <td>94.0</td>\n",
       "    </tr>\n",
       "    <tr>\n",
       "      <th>2</th>\n",
       "      <td>2vdqng1sixzjlkjvq</td>\n",
       "      <td>21.0</td>\n",
       "    </tr>\n",
       "    <tr>\n",
       "      <th>3</th>\n",
       "      <td>5twonineeight3onefive</td>\n",
       "      <td>53.0</td>\n",
       "    </tr>\n",
       "    <tr>\n",
       "      <th>4</th>\n",
       "      <td>2three2seveneightseven</td>\n",
       "      <td>22.0</td>\n",
       "    </tr>\n",
       "  </tbody>\n",
       "</table>\n",
       "</div>"
      ],
      "text/plain": [
       "                 calibration  new_calibration\n",
       "0                  5ffour295             55.0\n",
       "1  m9qvkqlgfhtwo3seven4seven             94.0\n",
       "2          2vdqng1sixzjlkjvq             21.0\n",
       "3      5twonineeight3onefive             53.0\n",
       "4     2three2seveneightseven             22.0"
      ]
     },
     "execution_count": 22,
     "metadata": {},
     "output_type": "execute_result"
    }
   ],
   "source": [
    "df.head()"
   ]
  },
  {
   "cell_type": "code",
   "execution_count": null,
   "metadata": {},
   "outputs": [
    {
     "ename": "ValueError",
     "evalue": "invalid literal for int() with base 10: ''",
     "output_type": "error",
     "traceback": [
      "\u001b[0;31m---------------------------------------------------------------------------\u001b[0m",
      "\u001b[0;31mValueError\u001b[0m                                Traceback (most recent call last)",
      "\u001b[1;32m/Users/ramirolopez/Projects/Advent_of_Code_2023/advent_of_code_2023/Day_1.ipynb Cell 11\u001b[0m line \u001b[0;36m6\n\u001b[1;32m      <a href='vscode-notebook-cell:/Users/ramirolopez/Projects/Advent_of_Code_2023/advent_of_code_2023/Day_1.ipynb#X24sZmlsZQ%3D%3D?line=3'>4</a>\u001b[0m \u001b[39mfor\u001b[39;00m code \u001b[39min\u001b[39;00m df:\n\u001b[1;32m      <a href='vscode-notebook-cell:/Users/ramirolopez/Projects/Advent_of_Code_2023/advent_of_code_2023/Day_1.ipynb#X24sZmlsZQ%3D%3D?line=4'>5</a>\u001b[0m     nums \u001b[39m=\u001b[39m re\u001b[39m.\u001b[39mfindall(\u001b[39mr\u001b[39m\u001b[39m'\u001b[39m\u001b[39m\\\u001b[39m\u001b[39md+\u001b[39m\u001b[39m'\u001b[39m, code)\n\u001b[0;32m----> <a href='vscode-notebook-cell:/Users/ramirolopez/Projects/Advent_of_Code_2023/advent_of_code_2023/Day_1.ipynb#X24sZmlsZQ%3D%3D?line=5'>6</a>\u001b[0m     numbers\u001b[39m.\u001b[39mappend(\u001b[39mint\u001b[39;49m(\u001b[39m'\u001b[39;49m\u001b[39m'\u001b[39;49m\u001b[39m.\u001b[39;49mjoin(nums)))\n\u001b[1;32m      <a href='vscode-notebook-cell:/Users/ramirolopez/Projects/Advent_of_Code_2023/advent_of_code_2023/Day_1.ipynb#X24sZmlsZQ%3D%3D?line=7'>8</a>\u001b[0m \u001b[39mprint\u001b[39m(numbers)\n",
      "\u001b[0;31mValueError\u001b[0m: invalid literal for int() with base 10: ''"
     ]
    }
   ],
   "source": [
    "import re\n",
    "\n",
    "numbers = []\n",
    "for code in df:\n",
    "    nums = re.findall(r'\\d+', code)\n",
    "    numbers.append(int(''.join(nums)))\n",
    "    \n",
    "print(numbers)"
   ]
  },
  {
   "cell_type": "code",
   "execution_count": null,
   "metadata": {},
   "outputs": [],
   "source": [
    "numbers = []\n",
    "for code in df:\n",
    "  num_str = '' \n",
    "  for char in code:\n",
    "    if char.isnumeric():\n",
    "      num_str += char\n",
    "\n",
    "  if num_str:  \n",
    "    numbers.append(int(num_str))\n",
    "  else:\n",
    "    numbers.append(0) # Handle empty string"
   ]
  },
  {
   "cell_type": "code",
   "execution_count": null,
   "metadata": {},
   "outputs": [
    {
     "data": {
      "text/plain": [
       "[0]"
      ]
     },
     "execution_count": 65,
     "metadata": {},
     "output_type": "execute_result"
    }
   ],
   "source": [
    "numbers"
   ]
  },
  {
   "cell_type": "code",
   "execution_count": null,
   "metadata": {},
   "outputs": [],
   "source": [
    "# End Goal is to create a new column \n",
    "\n",
    "df['new_calibration'] = df"
   ]
  }
 ],
 "metadata": {
  "kernelspec": {
   "display_name": "codeup",
   "language": "python",
   "name": "python3"
  },
  "language_info": {
   "codemirror_mode": {
    "name": "ipython",
    "version": 3
   },
   "file_extension": ".py",
   "mimetype": "text/x-python",
   "name": "python",
   "nbconvert_exporter": "python",
   "pygments_lexer": "ipython3",
   "version": "3.11.6"
  }
 },
 "nbformat": 4,
 "nbformat_minor": 2
}
